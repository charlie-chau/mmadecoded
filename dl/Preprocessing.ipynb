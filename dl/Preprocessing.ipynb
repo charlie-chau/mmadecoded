{
 "cells": [
  {
   "cell_type": "code",
   "execution_count": 1,
   "metadata": {},
   "outputs": [],
   "source": [
    "import pymongo\n",
    "from datetime import datetime\n",
    "import pandas as pd"
   ]
  },
  {
   "cell_type": "code",
   "execution_count": 2,
   "metadata": {},
   "outputs": [],
   "source": [
    "DB = pymongo.MongoClient('localhost', 27017)['mmadecoded']"
   ]
  },
  {
   "cell_type": "code",
   "execution_count": 18,
   "metadata": {},
   "outputs": [],
   "source": [
    "def get_fights_with_glicko(db, event_ids=None):\n",
    "    fight_with_glicko_col = db['sherdog_fights_with_glicko2']\n",
    "\n",
    "    if event_ids:\n",
    "        found = fight_with_glicko_col.find(\n",
    "            {\n",
    "                'event_id': {\n",
    "                    '$in': event_ids\n",
    "                }\n",
    "            },\n",
    "            no_cursor_timeout=True\n",
    "        )\n",
    "    else:\n",
    "        found = fight_with_glicko_col.find()\n",
    "\n",
    "    return found"
   ]
  },
  {
   "cell_type": "code",
   "execution_count": 4,
   "metadata": {},
   "outputs": [],
   "source": [
    "def get_fighters(db):\n",
    "    fighter_col = db['sherdog_fighters']\n",
    "\n",
    "    found = fighter_col.find()\n",
    "\n",
    "    return found"
   ]
  },
  {
   "cell_type": "code",
   "execution_count": 5,
   "metadata": {},
   "outputs": [],
   "source": [
    "def get_fighter_age(dob_str, event_date):\n",
    "    if dob_str is None or dob_str == \"\":\n",
    "        return None\n",
    "    fighter_dob = datetime.strptime(dob_str, '%Y-%m-%d')\n",
    "    event_date = datetime.strptime(event_date, '%Y-%m-%d')\n",
    "\n",
    "    age = (event_date - fighter_dob).days / 365.25\n",
    "\n",
    "    return round(age, 2)\n"
   ]
  },
  {
   "cell_type": "code",
   "execution_count": 6,
   "metadata": {},
   "outputs": [],
   "source": [
    "def get_events(db, date=None):\n",
    "    events_col = db['sherdog_events']\n",
    "    if date is None:\n",
    "        found = events_col.find().sort(\"date\", 1)\n",
    "    else:\n",
    "        found = events_col.find(\n",
    "            {'date': {'$gte': date}},\n",
    "        ).sort(\"date\", 1)\n",
    "\n",
    "    return found\n"
   ]
  },
  {
   "cell_type": "code",
   "execution_count": 7,
   "metadata": {},
   "outputs": [],
   "source": [
    "def get_fighter_history(db, fighter_id):\n",
    "    glicko_fights_col = db['sherdog_fights_with_glicko2']\n",
    "\n",
    "    found = glicko_fights_col.find({\n",
    "        '$or': [\n",
    "            {\n",
    "                'fighter1_id': fighter_id\n",
    "            },\n",
    "            {\n",
    "                'fighter2_id': fighter_id\n",
    "            }\n",
    "        ]\n",
    "    })\n",
    "\n",
    "    return found"
   ]
  },
  {
   "cell_type": "code",
   "execution_count": 8,
   "metadata": {},
   "outputs": [],
   "source": [
    "def get_last_3_fights(db, fighter_id, curr_date):\n",
    "    fighter_hist = get_fighter_history(db, fighter_id)\n",
    "    last_fights = []\n",
    "    curr_date = datetime.strptime(curr_date, '%Y-%m-%d')\n",
    "    \n",
    "    for fight in fighter_hist:\n",
    "        if fight['fighter1_id'] == fighter_id:\n",
    "            info = fight['fighter1_glicko2_info']\n",
    "        else:\n",
    "            info = fight['fighter2_glicko2_info']\n",
    "        fight_date = event_dates[str(fight['event_id'])] \n",
    "        \n",
    "        fight_date = datetime.strptime(fight_date, '%Y-%m-%d')\n",
    "\n",
    "        if fight_date < curr_date:\n",
    "            fight_info = {\n",
    "                'date': fight_date,\n",
    "                'result': info['result']\n",
    "            }\n",
    "            last_fights.append(fight_info)\n",
    "        \n",
    "    return sorted(last_fights, key=lambda i: i['date'], reverse=True)[:3]\n"
   ]
  },
  {
   "cell_type": "code",
   "execution_count": 9,
   "metadata": {},
   "outputs": [],
   "source": [
    "def get_inactivity(last_fights, curr_date):\n",
    "    if len(last_fights) == 0:\n",
    "        return None\n",
    "    else:\n",
    "        curr_date = datetime.strptime(curr_date, '%Y-%m-%d')\n",
    "        inactivity = (curr_date - last_fights[0]['date']).days\n",
    "\n",
    "    return round(inactivity, 2)\n"
   ]
  },
  {
   "cell_type": "code",
   "execution_count": 10,
   "metadata": {},
   "outputs": [],
   "source": [
    "def get_streak(last_fights):\n",
    "    results_char = []\n",
    "    for fight in reversed(last_fights):\n",
    "        if fight['result'] == 'LOSS':\n",
    "            results_char.append('L')\n",
    "        else:\n",
    "            results_char.append('W')\n",
    "    \n",
    "    return ''.join(results_char)\n"
   ]
  },
  {
   "cell_type": "code",
   "execution_count": 11,
   "metadata": {},
   "outputs": [],
   "source": [
    "fighters_db = get_fighters(DB)\n",
    "fighters = {}\n",
    "for fighter_db in fighters_db:\n",
    "    fighters[str(fighter_db['_id'])] = {\n",
    "        'name': fighter_db['name'],\n",
    "        'date_of_birth': fighter_db['date_of_birth'],\n",
    "        'height_cm': fighter_db['height_cm'],\n",
    "        'weight_kg': fighter_db['weight_kg']\n",
    "    }    \n"
   ]
  },
  {
   "cell_type": "code",
   "execution_count": 12,
   "metadata": {},
   "outputs": [],
   "source": [
    "events_db = get_events(DB)\n",
    "event_dates = {}\n",
    "for event_db in events_db:\n",
    "    event_dates[str(event_db['_id'])] = event_db['date']\n"
   ]
  },
  {
   "cell_type": "code",
   "execution_count": 13,
   "metadata": {},
   "outputs": [],
   "source": [
    "fights_with_glicko_db = get_fights_with_glicko(DB)\n",
    "fighter_hist = {}\n",
    "i = 1\n",
    "for fight_db in fights_with_glicko_db:\n",
    "    try:\n",
    "        event_a = {\n",
    "            'date': event_dates[str(fight_db['event_id'])],\n",
    "            'result': fight_db['fighter1_glicko2_info']['result']\n",
    "        }\n",
    "\n",
    "        event_b = {\n",
    "            'date': event_dates[str(fight_db['event_id'])],\n",
    "            'result': fight_db['fighter2_glicko2_info']['result']\n",
    "        }\n",
    "\n",
    "        if str(fight_db['fighter1_id']) in fighter_hist:\n",
    "            fighter_hist[str(fight_db['fighter1_id'])].append(event_a)\n",
    "        else:\n",
    "            fighter_hist[str(fight_db['fighter1_id'])] = [event_a]\n",
    "\n",
    "        if str(fight_db['fighter2_id']) in fighter_hist:\n",
    "            fighter_hist[str(fight_db['fighter2_id'])].append(event_b)\n",
    "        else:\n",
    "            fighter_hist[str(fight_db['fighter2_id'])] = [event_b]\n",
    "        i += 1\n",
    "    except:\n",
    "        print(i)\n",
    "    \n",
    "print(len(fights))   "
   ]
  },
  {
   "cell_type": "code",
   "execution_count": null,
   "metadata": {},
   "outputs": [
    {
     "name": "stdout",
     "output_type": "stream",
     "text": [
      "18\n",
      "28\n",
      "121\n",
      "313\n"
     ]
    }
   ],
   "source": [
    "fights_with_glicko_db = get_fights_with_glicko(DB)\n",
    "fights = []\n",
    "i = 1\n",
    "for fight_db in fights_with_glicko_db:\n",
    "    try:\n",
    "        fight = {}\n",
    "        date = event_dates[str(fight_db['event_id'])]\n",
    "        fighter_a = fighters[str(fight_db['fighter2_id'])]\n",
    "        fighter_b = fighters[str(fight_db['fighter1_id'])]\n",
    "\n",
    "        fighter_a_hist = get_last_3_fights(DB, fight_db['fighter2_id'], date)\n",
    "        fighter_b_hist = get_last_3_fights(DB, fight_db['fighter1_id'], date)\n",
    "\n",
    "        fight['a_name'] = fighter_a['name']\n",
    "        fight['a_age'] = get_fighter_age(fighter_a['date_of_birth'], date)\n",
    "        fight['a_height_cm'] = fighter_a['height_cm']\n",
    "        fight['a_weight_kg'] = fighter_a['weight_kg']\n",
    "        fight['a_mu'] = fight_db['fighter2_glicko2_info']['mu']\n",
    "        fight['a_phi'] = fight_db['fighter2_glicko2_info']['phi']\n",
    "        fight['a_sigma'] = fight_db['fighter2_glicko2_info']['sigma']\n",
    "        fight['a_fight_count'] = fight_db['fighter2_glicko2_info']['fight_count']\n",
    "        fight['a_inactivity'] = get_inactivity(fighter_a_hist, date)\n",
    "        fight['a_streak'] = get_streak(fighter_a_hist)    \n",
    "\n",
    "        fight['b_name'] = fighter_b['name']\n",
    "        fight['b_age'] = get_fighter_age(fighter_b['date_of_birth'], date)\n",
    "        fight['b_height_cm'] = fighter_b['height_cm']\n",
    "        fight['b_weight_kg'] = fighter_b['weight_kg']\n",
    "        fight['b_mu'] = fight_db['fighter1_glicko2_info']['mu']\n",
    "        fight['b_phi'] = fight_db['fighter1_glicko2_info']['phi']\n",
    "        fight['b_sigma'] = fight_db['fighter1_glicko2_info']['sigma']\n",
    "        fight['b_fight_count'] = fight_db['fighter1_glicko2_info']['fight_count']\n",
    "        fight['b_inactivity'] = get_inactivity(fighter_b_hist, date)\n",
    "        fight['b_streak'] = get_streak(fighter_a_hist)  \n",
    "\n",
    "        fight['result'] = fight_db['fighter2_glicko2_info']['result']\n",
    "\n",
    "        fights.append(fight)\n",
    "\n",
    "        fight = {}\n",
    "        fighter_a = fighters[str(fight_db['fighter1_id'])]\n",
    "        fighter_b = fighters[str(fight_db['fighter2_id'])]\n",
    "\n",
    "        fight['a_name'] = fighter_a['name']\n",
    "        fight['a_age'] = get_fighter_age(fighter_a['date_of_birth'], date)\n",
    "        fight['a_height_cm'] = fighter_a['height_cm']\n",
    "        fight['a_weight_kg'] = fighter_a['weight_kg']\n",
    "        fight['a_mu'] = fight_db['fighter1_glicko2_info']['mu']\n",
    "        fight['a_phi'] = fight_db['fighter1_glicko2_info']['phi']\n",
    "        fight['a_sigma'] = fight_db['fighter1_glicko2_info']['sigma']\n",
    "        fight['a_fight_count'] = fight_db['fighter1_glicko2_info']['fight_count']\n",
    "        fight['a_inactivity'] = get_inactivity(fighter_b_hist, date)\n",
    "        fight['a_streak'] = get_streak(fighter_b_hist)  \n",
    "\n",
    "        fight['b_name'] = fighter_b['name']\n",
    "        fight['b_age'] = get_fighter_age(fighter_b['date_of_birth'], date)\n",
    "        fight['b_height_cm'] = fighter_b['height_cm']\n",
    "        fight['b_weight_kg'] = fighter_b['weight_kg']\n",
    "        fight['b_mu'] = fight_db['fighter2_glicko2_info']['mu']\n",
    "        fight['b_phi'] = fight_db['fighter2_glicko2_info']['phi']\n",
    "        fight['b_sigma'] = fight_db['fighter2_glicko2_info']['sigma']\n",
    "        fight['b_fight_count'] = fight_db['fighter2_glicko2_info']['fight_count']\n",
    "        fight['b_inactivity'] = get_inactivity(fighter_a_hist, date)\n",
    "        fight['b_streak'] = get_streak(fighter_a_hist)  \n",
    "\n",
    "        fight['result'] = fight_db['fighter1_glicko2_info']['result']\n",
    "\n",
    "        fights.append(fight)\n",
    "        i += 1\n",
    "        \n",
    "        if i % 1000 == 0:\n",
    "            print(i)\n",
    "\n",
    "    except:\n",
    "        print('{}'.format(str(i)))\n",
    "    \n",
    "print(len(fights))"
   ]
  },
  {
   "cell_type": "code",
   "execution_count": 48,
   "metadata": {},
   "outputs": [],
   "source": [
    "fights_df = pd.DataFrame.from_records(fights)"
   ]
  },
  {
   "cell_type": "code",
   "execution_count": 49,
   "metadata": {},
   "outputs": [
    {
     "data": {
      "text/plain": [
       "(677930, 17)"
      ]
     },
     "execution_count": 49,
     "metadata": {},
     "output_type": "execute_result"
    }
   ],
   "source": [
    "fights_df.shape"
   ]
  },
  {
   "cell_type": "code",
   "execution_count": 50,
   "metadata": {},
   "outputs": [],
   "source": [
    "fights_df.to_csv('fights_20210109.csv')"
   ]
  },
  {
   "cell_type": "code",
   "execution_count": 16,
   "metadata": {},
   "outputs": [
    {
     "data": {
      "text/plain": [
       "38428"
      ]
     },
     "execution_count": 16,
     "metadata": {},
     "output_type": "execute_result"
    }
   ],
   "source": [
    "len(fights)"
   ]
  },
  {
   "cell_type": "code",
   "execution_count": 17,
   "metadata": {},
   "outputs": [
    {
     "ename": "TypeError",
     "evalue": "object of type 'Cursor' has no len()",
     "output_type": "error",
     "traceback": [
      "\u001b[1;31m---------------------------------------------------------------------------\u001b[0m",
      "\u001b[1;31mTypeError\u001b[0m                                 Traceback (most recent call last)",
      "\u001b[1;32m<ipython-input-17-aa04c18cab23>\u001b[0m in \u001b[0;36m<module>\u001b[1;34m\u001b[0m\n\u001b[1;32m----> 1\u001b[1;33m \u001b[0mlen\u001b[0m\u001b[1;33m(\u001b[0m\u001b[0mfights_with_glicko_db\u001b[0m\u001b[1;33m)\u001b[0m\u001b[1;33m\u001b[0m\u001b[1;33m\u001b[0m\u001b[0m\n\u001b[0m",
      "\u001b[1;31mTypeError\u001b[0m: object of type 'Cursor' has no len()"
     ]
    }
   ],
   "source": []
  },
  {
   "cell_type": "code",
   "execution_count": null,
   "metadata": {},
   "outputs": [],
   "source": []
  }
 ],
 "metadata": {
  "kernelspec": {
   "display_name": "Python 3",
   "language": "python",
   "name": "python3"
  },
  "language_info": {
   "codemirror_mode": {
    "name": "ipython",
    "version": 3
   },
   "file_extension": ".py",
   "mimetype": "text/x-python",
   "name": "python",
   "nbconvert_exporter": "python",
   "pygments_lexer": "ipython3",
   "version": "3.7.6"
  }
 },
 "nbformat": 4,
 "nbformat_minor": 4
}
